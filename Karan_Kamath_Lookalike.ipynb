{
  "cells": [
    {
      "cell_type": "code",
      "execution_count": 3,
      "id": "7ff88093-1df4-4cd6-8aaf-3cd3e633d6c8",
      "metadata": {
        "id": "7ff88093-1df4-4cd6-8aaf-3cd3e633d6c8"
      },
      "outputs": [],
      "source": [
        "import pandas as pd\n",
        "import numpy as np\n",
        "from sklearn.preprocessing import StandardScaler\n",
        "from datetime import datetime"
      ]
    },
    {
      "cell_type": "code",
      "source": [
        "customers_df = pd.read_csv('Customers.csv')\n",
        "products_df = pd.read_csv('Products.csv')\n",
        "transactions_df = pd.read_csv('Transactions.csv')"
      ],
      "metadata": {
        "id": "hJh2Cu4J9ztw"
      },
      "id": "hJh2Cu4J9ztw",
      "execution_count": 4,
      "outputs": []
    },
    {
      "cell_type": "code",
      "source": [
        "def find_similar_customers(customers_df, feature_matrix, customer_id, n_recommendations=3):\n",
        "    customer_features = feature_matrix[feature_matrix['CustomerID'] == customer_id].iloc[0]\n",
        "    feature_cols = feature_matrix.columns.difference(['CustomerID'])\n",
        "    distances = []\n",
        "\n",
        "    for _, row in feature_matrix.iterrows():\n",
        "        if row['CustomerID'] != customer_id:\n",
        "            distance = np.sqrt(((customer_features[feature_cols] - row[feature_cols]) ** 2).sum())\n",
        "            similarity_score = 1 / (1 + distance)\n",
        "            distances.append({'CustomerID': row['CustomerID'], 'SimilarityScore': similarity_score})\n",
        "\n",
        "    recommendations = (pd.DataFrame(distances)\n",
        "                       .sort_values('SimilarityScore', ascending=False)\n",
        "                       .head(n_recommendations))\n",
        "    recommendations = recommendations.merge(customers_df[['CustomerID', 'CustomerName']], on='CustomerID')\n",
        "\n",
        "    return recommendations[['CustomerID', 'CustomerName', 'SimilarityScore']]\n"
      ],
      "metadata": {
        "id": "P4F8Oe919kPc"
      },
      "id": "P4F8Oe919kPc",
      "execution_count": 5,
      "outputs": []
    },
    {
      "cell_type": "code",
      "source": [
        "def prepare_customer_features(customers_df, products_df, transactions_df):\n",
        "    customers_df['SignupDate'] = pd.to_datetime(customers_df['SignupDate'])\n",
        "    current_date = datetime.now()\n",
        "    customers_df['CustomerLifetime'] = (current_date - customers_df['SignupDate']).dt.days\n",
        "\n",
        "    region_dummies = pd.get_dummies(customers_df['Region'], prefix='Region')\n",
        "\n",
        "    customer_transactions = transactions_df.groupby('CustomerID').agg({\n",
        "        'TransactionID': 'count',\n",
        "        'TotalValue': ['sum', 'mean'],\n",
        "        'Quantity': ['sum', 'mean']\n",
        "    }).reset_index()\n",
        "    customer_transactions.columns = ['CustomerID', 'TransactionCount', 'TotalSpend',\n",
        "                                      'AvgTransactionValue', 'TotalQuantity', 'AvgQuantity']\n",
        "\n",
        "    merged_trans = transactions_df.merge(products_df[['ProductID', 'Category']], on='ProductID')\n",
        "    category_preferences = pd.crosstab(merged_trans['CustomerID'],\n",
        "                                        merged_trans['Category'],\n",
        "                                        values=merged_trans['Quantity'],\n",
        "                                        aggfunc='sum',\n",
        "                                        normalize='index').fillna(0)\n",
        "\n",
        "    feature_matrix = (customers_df[['CustomerID', 'CustomerLifetime']]\n",
        "                      .merge(customer_transactions, on='CustomerID', how='left')\n",
        "                      .merge(region_dummies, left_index=True, right_index=True)\n",
        "                      .merge(category_preferences, left_on='CustomerID', right_index=True, how='left'))\n",
        "    feature_matrix = feature_matrix.fillna(0)\n",
        "\n",
        "    scaler = StandardScaler()\n",
        "    feature_cols = feature_matrix.columns.difference(['CustomerID'])\n",
        "    feature_matrix[feature_cols] = scaler.fit_transform(feature_matrix[feature_cols])\n",
        "\n",
        "    return feature_matrix"
      ],
      "metadata": {
        "id": "wE09b7ly97y-"
      },
      "id": "wE09b7ly97y-",
      "execution_count": 6,
      "outputs": []
    },
    {
      "cell_type": "code",
      "execution_count": 7,
      "id": "6b4697d6-0dd0-49f7-a5f4-7d5ff5c3bf37",
      "metadata": {
        "id": "6b4697d6-0dd0-49f7-a5f4-7d5ff5c3bf37"
      },
      "outputs": [],
      "source": [
        "model = prepare_customer_features(customers_df, products_df, transactions_df)\n",
        "\n",
        "similarity_results = []\n",
        "\n",
        "for customer_id in customers_df['CustomerID'][:20]:\n",
        "    similar_customers = find_similar_customers(customers_df, model, customer_id=customer_id)\n",
        "    similar_ids = similar_customers['CustomerID'].tolist()[:3]\n",
        "    similarity_results.append([customer_id] + similar_ids)"
      ]
    },
    {
      "cell_type": "code",
      "source": [
        "similarity_df = pd.DataFrame(similarity_results, columns=['CustomerID', 'SimilarID1', 'SimilarID2', 'SimilarID3'])\n",
        "\n",
        "similarity_df.to_excel('Karan_Kamath_Lookalike.xlsx', index=False)\n",
        "print(\"Similar customers saved...\")\n"
      ],
      "metadata": {
        "colab": {
          "base_uri": "https://localhost:8080/"
        },
        "id": "eCDMHtWV-JdM",
        "outputId": "212a62e9-b078-470a-a7dc-f9cffc98d0af"
      },
      "id": "eCDMHtWV-JdM",
      "execution_count": 9,
      "outputs": [
        {
          "output_type": "stream",
          "name": "stdout",
          "text": [
            "Similar customers saved...\n"
          ]
        }
      ]
    }
  ],
  "metadata": {
    "kernelspec": {
      "display_name": "Python 3 (ipykernel)",
      "language": "python",
      "name": "python3"
    },
    "language_info": {
      "codemirror_mode": {
        "name": "ipython",
        "version": 3
      },
      "file_extension": ".py",
      "mimetype": "text/x-python",
      "name": "python",
      "nbconvert_exporter": "python",
      "pygments_lexer": "ipython3",
      "version": "3.12.4"
    },
    "colab": {
      "provenance": []
    }
  },
  "nbformat": 4,
  "nbformat_minor": 5
}